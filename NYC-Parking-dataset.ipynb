{
 "cells": [
  {
   "cell_type": "markdown",
   "id": "e38696f3",
   "metadata": {},
   "source": [
    "#### Name: Nandakumar Abbigeri\n",
    "#### Email: officialnandu@gmail.com"
   ]
  },
  {
   "cell_type": "markdown",
   "id": "7e55048e",
   "metadata": {},
   "source": [
    "## <font color=\"red\">Read these comments before checking through.</font>\n",
    "* For the sake of visualizing the data in intermediate steps between actions the lazy-evaluation of spark is ignored.\n",
    "* The answer to each question is at the end code-block of the respective section in this ipnb\n",
    "* Assumptions are stated as and when required"
   ]
  },
  {
   "cell_type": "markdown",
   "id": "6a728aa5",
   "metadata": {},
   "source": [
    "# <font color=\"red\">Important Assumption</font>\n",
    "* The given data-set in the learning portal of the s3-bucket for the \"parking-violation\" dataset is not working.\n",
    "* So as per my assignment walkthrough, I have uploaded \"Parking_Violation_2016\" dataset into my account aws S3 bucket and carried out the requirements of the assignment. "
   ]
  },
  {
   "cell_type": "markdown",
   "id": "f58adf73",
   "metadata": {},
   "source": [
    "##  <font color=\"green\">Note on color-scheme used\n",
    "* All the red font text are the questions that are asked in the assignment.\n",
    "* All the blue font text are stated assumptions or comments on computation steps.\n",
    "* All the black font text are answers to the questions or some important points/notes to be considered."
   ]
  },
  {
   "cell_type": "code",
   "execution_count": 1,
   "id": "abe8211e",
   "metadata": {},
   "outputs": [
    {
     "data": {
      "application/vnd.jupyter.widget-view+json": {
       "model_id": "774800f98ca14db2a0c292497aa8aa87",
       "version_major": 2,
       "version_minor": 0
      },
      "text/plain": [
       "VBox()"
      ]
     },
     "metadata": {},
     "output_type": "display_data"
    },
    {
     "name": "stdout",
     "output_type": "stream",
     "text": [
      "Starting Spark application\n"
     ]
    },
    {
     "data": {
      "text/html": [
       "<table>\n",
       "<tr><th>ID</th><th>YARN Application ID</th><th>Kind</th><th>State</th><th>Spark UI</th><th>Driver log</th><th>Current session?</th></tr><tr><td>0</td><td>application_1668001698833_0001</td><td>pyspark</td><td>idle</td><td><a target=\"_blank\" href=\"http://ip-172-31-30-63.ec2.internal:20888/proxy/application_1668001698833_0001/\">Link</a></td><td><a target=\"_blank\" href=\"http://ip-172-31-30-63.ec2.internal:8042/node/containerlogs/container_1668001698833_0001_01_000001/livy\">Link</a></td><td>✔</td></tr></table>"
      ],
      "text/plain": [
       "<IPython.core.display.HTML object>"
      ]
     },
     "metadata": {},
     "output_type": "display_data"
    },
    {
     "data": {
      "application/vnd.jupyter.widget-view+json": {
       "model_id": "",
       "version_major": 2,
       "version_minor": 0
      },
      "text/plain": [
       "FloatProgress(value=0.0, bar_style='info', description='Progress:', layout=Layout(height='25px', width='50%'),…"
      ]
     },
     "metadata": {},
     "output_type": "display_data"
    },
    {
     "name": "stdout",
     "output_type": "stream",
     "text": [
      "SparkSession available as 'spark'.\n"
     ]
    },
    {
     "data": {
      "application/vnd.jupyter.widget-view+json": {
       "model_id": "",
       "version_major": 2,
       "version_minor": 0
      },
      "text/plain": [
       "FloatProgress(value=0.0, bar_style='info', description='Progress:', layout=Layout(height='25px', width='50%'),…"
      ]
     },
     "metadata": {},
     "output_type": "display_data"
    },
    {
     "name": "stdout",
     "output_type": "stream",
     "text": [
      "<pyspark.sql.session.SparkSession object at 0x7fa15ac4db90>"
     ]
    }
   ],
   "source": [
    "spark"
   ]
  },
  {
   "cell_type": "markdown",
   "id": "01ca5df6",
   "metadata": {},
   "source": [
    "## <font color=\"red\">Reading the data</font>"
   ]
  },
  {
   "cell_type": "code",
   "execution_count": 2,
   "id": "74cf7d65",
   "metadata": {
    "scrolled": false
   },
   "outputs": [
    {
     "data": {
      "application/vnd.jupyter.widget-view+json": {
       "model_id": "344d4deb507246e7854cd05368e9ba01",
       "version_major": 2,
       "version_minor": 0
      },
      "text/plain": [
       "VBox()"
      ]
     },
     "metadata": {},
     "output_type": "display_data"
    },
    {
     "data": {
      "application/vnd.jupyter.widget-view+json": {
       "model_id": "",
       "version_major": 2,
       "version_minor": 0
      },
      "text/plain": [
       "FloatProgress(value=0.0, bar_style='info', description='Progress:', layout=Layout(height='25px', width='50%'),…"
      ]
     },
     "metadata": {},
     "output_type": "display_data"
    }
   ],
   "source": [
    "# Note: This is the data from kaggle 2016 data uploaded to my AWS account S3-bucket.\n",
    "s3path = 's3://upgrad-data/Parking_Violation_Tickets.csv'\n",
    "\n",
    "df = spark.read.format(\"csv\").option(\"inferSchema\",\"true\").option(\"header\", \"true\").load(s3path)"
   ]
  },
  {
   "cell_type": "code",
   "execution_count": 3,
   "id": "c510b51f",
   "metadata": {},
   "outputs": [
    {
     "data": {
      "application/vnd.jupyter.widget-view+json": {
       "model_id": "f32fa9933e3b467090cd15f9f893c5f8",
       "version_major": 2,
       "version_minor": 0
      },
      "text/plain": [
       "VBox()"
      ]
     },
     "metadata": {},
     "output_type": "display_data"
    },
    {
     "data": {
      "application/vnd.jupyter.widget-view+json": {
       "model_id": "",
       "version_major": 2,
       "version_minor": 0
      },
      "text/plain": [
       "FloatProgress(value=0.0, bar_style='info', description='Progress:', layout=Layout(height='25px', width='50%'),…"
      ]
     },
     "metadata": {},
     "output_type": "display_data"
    },
    {
     "name": "stdout",
     "output_type": "stream",
     "text": [
      "+--------------+--------+------------------+----------+----------+--------------+-----------------+------------+--------------+------------+------------+------------+-----------------------+------------------+------------------+---------------+-----------+--------------+------------+--------------+-------------------+----------------+---------------------------------+------------+------------+-------------------+-------------------+-----------+------------+--------------------+--------------------------+--------------------+------------------+-------------+---------------------+------------+------------+--------------+-------------------+---------------------+---------------------------------+-----------------+------------------------+--------+---------+---------------+------------------+------------+----+----+----+\n",
      "|Summons Number|Plate ID|Registration State|Plate Type|Issue Date|Violation Code|Vehicle Body Type|Vehicle Make|Issuing Agency|Street Code1|Street Code2|Street Code3|Vehicle Expiration Date|Violation Location|Violation Precinct|Issuer Precinct|Issuer Code|Issuer Command|Issuer Squad|Violation Time|Time First Observed|Violation County|Violation In Front Of Or Opposite|House Number| Street Name|Intersecting Street|Date First Observed|Law Section|Sub Division|Violation Legal Code|Days Parking In Effect    |From Hours In Effect|To Hours In Effect|Vehicle Color|Unregistered Vehicle?|Vehicle Year|Meter Number|Feet From Curb|Violation Post Code|Violation Description|No Standing or Stopping Violation|Hydrant Violation|Double Parking Violation|Latitude|Longitude|Community Board|Community Council |Census Tract| BIN| BBL| NTA|\n",
      "+--------------+--------+------------------+----------+----------+--------------+-----------------+------------+--------------+------------+------------+------------+-----------------------+------------------+------------------+---------------+-----------+--------------+------------+--------------+-------------------+----------------+---------------------------------+------------+------------+-------------------+-------------------+-----------+------------+--------------------+--------------------------+--------------------+------------------+-------------+---------------------+------------+------------+--------------+-------------------+---------------------+---------------------------------+-----------------+------------------------+--------+---------+---------------+------------------+------------+----+----+----+\n",
      "|    1363745270| GGY6450|                99|       PAS|07/09/2015|            46|              SDN|       HONDA|             P|           0|       40404|       40404|               20170602|                74|                74|            301|     358160|          T301|        0000|         1037A|               null|               K|                                F|         142|MACDOUNGH ST|               null|                  0|        408|          D1|                null|                   BBBBBBB|                 ALL|               ALL|        WHITE|                    0|        2010|           -|             0|               null|                 null|                             null|             null|                    null|    null|     null|           null|              null|        null|null|null|null|\n",
      "+--------------+--------+------------------+----------+----------+--------------+-----------------+------------+--------------+------------+------------+------------+-----------------------+------------------+------------------+---------------+-----------+--------------+------------+--------------+-------------------+----------------+---------------------------------+------------+------------+-------------------+-------------------+-----------+------------+--------------------+--------------------------+--------------------+------------------+-------------+---------------------+------------+------------+--------------+-------------------+---------------------+---------------------------------+-----------------+------------------------+--------+---------+---------------+------------------+------------+----+----+----+\n",
      "only showing top 1 row"
     ]
    }
   ],
   "source": [
    "df.show(1)"
   ]
  },
  {
   "cell_type": "markdown",
   "id": "b6d34fa5",
   "metadata": {},
   "source": [
    "# <font color=\"red\">Removing all the un-necessary columns from the entire data</font>"
   ]
  },
  {
   "cell_type": "code",
   "execution_count": 4,
   "id": "c1a38213",
   "metadata": {},
   "outputs": [
    {
     "data": {
      "application/vnd.jupyter.widget-view+json": {
       "model_id": "746a8073cb9f4fdbbe8271b3465470a0",
       "version_major": 2,
       "version_minor": 0
      },
      "text/plain": [
       "VBox()"
      ]
     },
     "metadata": {},
     "output_type": "display_data"
    },
    {
     "data": {
      "application/vnd.jupyter.widget-view+json": {
       "model_id": "",
       "version_major": 2,
       "version_minor": 0
      },
      "text/plain": [
       "FloatProgress(value=0.0, bar_style='info', description='Progress:', layout=Layout(height='25px', width='50%'),…"
      ]
     },
     "metadata": {},
     "output_type": "display_data"
    }
   ],
   "source": [
    "considered_columns = {\"Summons Number\",\"Plate ID\",\"Registration State\",\"Issue Date\",\"Violation Code\",\"Vehicle Body Type\",\"Vehicle Make\", \"Violation Precinct\",\"Issue Precinct\",\"Violation Time\"}\n",
    "df = df.select([c for c in df.columns if c in considered_columns])"
   ]
  },
  {
   "cell_type": "code",
   "execution_count": 5,
   "id": "d7c42cd9",
   "metadata": {},
   "outputs": [
    {
     "data": {
      "application/vnd.jupyter.widget-view+json": {
       "model_id": "d3afb239788c4d1bbf93b4fdc6ab2c86",
       "version_major": 2,
       "version_minor": 0
      },
      "text/plain": [
       "VBox()"
      ]
     },
     "metadata": {},
     "output_type": "display_data"
    },
    {
     "data": {
      "application/vnd.jupyter.widget-view+json": {
       "model_id": "",
       "version_major": 2,
       "version_minor": 0
      },
      "text/plain": [
       "FloatProgress(value=0.0, bar_style='info', description='Progress:', layout=Layout(height='25px', width='50%'),…"
      ]
     },
     "metadata": {},
     "output_type": "display_data"
    },
    {
     "name": "stdout",
     "output_type": "stream",
     "text": [
      "+--------------+--------+------------------+----------+--------------+-----------------+------------+------------------+--------------+\n",
      "|Summons Number|Plate ID|Registration State|Issue Date|Violation Code|Vehicle Body Type|Vehicle Make|Violation Precinct|Violation Time|\n",
      "+--------------+--------+------------------+----------+--------------+-----------------+------------+------------------+--------------+\n",
      "|    1363745270| GGY6450|                99|07/09/2015|            46|              SDN|       HONDA|                74|         1037A|\n",
      "|    1363745293|  KXD355|                SC|07/09/2015|            21|             SUBN|       CHEVR|                79|         1206P|\n",
      "|    1363745438| JCK7576|                PA|07/09/2015|            21|              SDN|       ME/BE|                79|         0820A|\n",
      "+--------------+--------+------------------+----------+--------------+-----------------+------------+------------------+--------------+\n",
      "only showing top 3 rows"
     ]
    }
   ],
   "source": [
    "df.show(3)"
   ]
  },
  {
   "cell_type": "code",
   "execution_count": 6,
   "id": "2c4808c5",
   "metadata": {},
   "outputs": [
    {
     "data": {
      "application/vnd.jupyter.widget-view+json": {
       "model_id": "c2f0ac62783340e399906b520bbbd4c7",
       "version_major": 2,
       "version_minor": 0
      },
      "text/plain": [
       "VBox()"
      ]
     },
     "metadata": {},
     "output_type": "display_data"
    },
    {
     "data": {
      "application/vnd.jupyter.widget-view+json": {
       "model_id": "",
       "version_major": 2,
       "version_minor": 0
      },
      "text/plain": [
       "FloatProgress(value=0.0, bar_style='info', description='Progress:', layout=Layout(height='25px', width='50%'),…"
      ]
     },
     "metadata": {},
     "output_type": "display_data"
    },
    {
     "name": "stdout",
     "output_type": "stream",
     "text": [
      "10626899"
     ]
    }
   ],
   "source": [
    "df.count()"
   ]
  },
  {
   "cell_type": "code",
   "execution_count": 7,
   "id": "9df6a26a",
   "metadata": {},
   "outputs": [
    {
     "data": {
      "application/vnd.jupyter.widget-view+json": {
       "model_id": "c540763da9b34218ae75a5710380ca92",
       "version_major": 2,
       "version_minor": 0
      },
      "text/plain": [
       "VBox()"
      ]
     },
     "metadata": {},
     "output_type": "display_data"
    },
    {
     "data": {
      "application/vnd.jupyter.widget-view+json": {
       "model_id": "",
       "version_major": 2,
       "version_minor": 0
      },
      "text/plain": [
       "FloatProgress(value=0.0, bar_style='info', description='Progress:', layout=Layout(height='25px', width='50%'),…"
      ]
     },
     "metadata": {},
     "output_type": "display_data"
    }
   ],
   "source": [
    "df = df.dropDuplicates()"
   ]
  },
  {
   "cell_type": "code",
   "execution_count": 8,
   "id": "959e505c",
   "metadata": {},
   "outputs": [
    {
     "data": {
      "application/vnd.jupyter.widget-view+json": {
       "model_id": "6fcd9e16b0f444e3bdd38b2a88dffaf0",
       "version_major": 2,
       "version_minor": 0
      },
      "text/plain": [
       "VBox()"
      ]
     },
     "metadata": {},
     "output_type": "display_data"
    },
    {
     "data": {
      "application/vnd.jupyter.widget-view+json": {
       "model_id": "",
       "version_major": 2,
       "version_minor": 0
      },
      "text/plain": [
       "FloatProgress(value=0.0, bar_style='info', description='Progress:', layout=Layout(height='25px', width='50%'),…"
      ]
     },
     "metadata": {},
     "output_type": "display_data"
    },
    {
     "name": "stdout",
     "output_type": "stream",
     "text": [
      "10626899"
     ]
    }
   ],
   "source": [
    "df.count()"
   ]
  },
  {
   "cell_type": "code",
   "execution_count": 9,
   "id": "47af9615",
   "metadata": {},
   "outputs": [
    {
     "data": {
      "application/vnd.jupyter.widget-view+json": {
       "model_id": "a3ade7119e8041ef8fe540b90815a2d9",
       "version_major": 2,
       "version_minor": 0
      },
      "text/plain": [
       "VBox()"
      ]
     },
     "metadata": {},
     "output_type": "display_data"
    },
    {
     "data": {
      "application/vnd.jupyter.widget-view+json": {
       "model_id": "",
       "version_major": 2,
       "version_minor": 0
      },
      "text/plain": [
       "FloatProgress(value=0.0, bar_style='info', description='Progress:', layout=Layout(height='25px', width='50%'),…"
      ]
     },
     "metadata": {},
     "output_type": "display_data"
    },
    {
     "name": "stdout",
     "output_type": "stream",
     "text": [
      "root\n",
      " |-- Summons Number: long (nullable = true)\n",
      " |-- Plate ID: string (nullable = true)\n",
      " |-- Registration State: string (nullable = true)\n",
      " |-- Issue Date: string (nullable = true)\n",
      " |-- Violation Code: integer (nullable = true)\n",
      " |-- Vehicle Body Type: string (nullable = true)\n",
      " |-- Vehicle Make: string (nullable = true)\n",
      " |-- Violation Precinct: integer (nullable = true)\n",
      " |-- Violation Time: string (nullable = true)"
     ]
    }
   ],
   "source": [
    "df.printSchema()"
   ]
  },
  {
   "cell_type": "markdown",
   "id": "54757ef9",
   "metadata": {},
   "source": [
    "# <font color=\"red\">Assignment QnA</font>"
   ]
  },
  {
   "cell_type": "markdown",
   "id": "042015ae",
   "metadata": {},
   "source": [
    "# <font color=\"red\">Data Examination</font>"
   ]
  },
  {
   "cell_type": "markdown",
   "id": "f9a7cc46",
   "metadata": {},
   "source": [
    "## <font color=red>Q1: Find the total number of tickets for the year."
   ]
  },
  {
   "cell_type": "code",
   "execution_count": 10,
   "id": "e35e2482",
   "metadata": {},
   "outputs": [
    {
     "data": {
      "application/vnd.jupyter.widget-view+json": {
       "model_id": "e7072fac80c74fb1952d4ff09058fb9b",
       "version_major": 2,
       "version_minor": 0
      },
      "text/plain": [
       "VBox()"
      ]
     },
     "metadata": {},
     "output_type": "display_data"
    },
    {
     "data": {
      "application/vnd.jupyter.widget-view+json": {
       "model_id": "",
       "version_major": 2,
       "version_minor": 0
      },
      "text/plain": [
       "FloatProgress(value=0.0, bar_style='info', description='Progress:', layout=Layout(height='25px', width='50%'),…"
      ]
     },
     "metadata": {},
     "output_type": "display_data"
    },
    {
     "name": "stdout",
     "output_type": "stream",
     "text": [
      "10626899"
     ]
    }
   ],
   "source": [
    "df = df.dropDuplicates()\n",
    "df.count()"
   ]
  },
  {
   "cell_type": "markdown",
   "id": "177bea2b",
   "metadata": {},
   "source": [
    "#### Ans: The total number of tickets for the year 2016 were 10626899"
   ]
  },
  {
   "cell_type": "markdown",
   "id": "4c5ae48c",
   "metadata": {},
   "source": [
    "#### <font color=\"blue\">Note: From above analysis performed till now it is clear that there is no duplicate data, i.e each row corresponds unique ticket.</font>"
   ]
  },
  {
   "cell_type": "markdown",
   "id": "3ae40c98",
   "metadata": {},
   "source": [
    "## <font color=red>Q2: Find out the number of unique states from where the cars the got the parking tickets came."
   ]
  },
  {
   "cell_type": "markdown",
   "id": "35d96db8",
   "metadata": {},
   "source": [
    "#### <font color=\"blue\">Initial check for unique states</font>"
   ]
  },
  {
   "cell_type": "code",
   "execution_count": 11,
   "id": "7a15a26b",
   "metadata": {
    "scrolled": false
   },
   "outputs": [
    {
     "data": {
      "application/vnd.jupyter.widget-view+json": {
       "model_id": "18bf749e9127468ab289809af72f0efd",
       "version_major": 2,
       "version_minor": 0
      },
      "text/plain": [
       "VBox()"
      ]
     },
     "metadata": {},
     "output_type": "display_data"
    },
    {
     "data": {
      "application/vnd.jupyter.widget-view+json": {
       "model_id": "",
       "version_major": 2,
       "version_minor": 0
      },
      "text/plain": [
       "FloatProgress(value=0.0, bar_style='info', description='Progress:', layout=Layout(height='25px', width='50%'),…"
      ]
     },
     "metadata": {},
     "output_type": "display_data"
    },
    {
     "name": "stdout",
     "output_type": "stream",
     "text": [
      "+------------------+\n",
      "|Registration State|\n",
      "+------------------+\n",
      "|                68|\n",
      "+------------------+"
     ]
    }
   ],
   "source": [
    "df.createOrReplaceTempView(\"Vdata\")\n",
    "spark.sql(\"select count(distinct `Registration State`) as `Registration State`\\\n",
    "          from Vdata\").show()"
   ]
  },
  {
   "cell_type": "markdown",
   "id": "8c0a8122",
   "metadata": {},
   "source": [
    "#### Ans: There are 68 unique states of the required condition without data clean"
   ]
  },
  {
   "cell_type": "markdown",
   "id": "33e523b9",
   "metadata": {},
   "source": [
    "#### <font color=\"blue\">Data-cleaning for the entry of 99 in \"Registration State\"</font>"
   ]
  },
  {
   "cell_type": "code",
   "execution_count": 12,
   "id": "07bb971a",
   "metadata": {},
   "outputs": [
    {
     "data": {
      "application/vnd.jupyter.widget-view+json": {
       "model_id": "aa84928e2153434d8fba9530c7d9abe9",
       "version_major": 2,
       "version_minor": 0
      },
      "text/plain": [
       "VBox()"
      ]
     },
     "metadata": {},
     "output_type": "display_data"
    },
    {
     "data": {
      "application/vnd.jupyter.widget-view+json": {
       "model_id": "",
       "version_major": 2,
       "version_minor": 0
      },
      "text/plain": [
       "FloatProgress(value=0.0, bar_style='info', description='Progress:', layout=Layout(height='25px', width='50%'),…"
      ]
     },
     "metadata": {},
     "output_type": "display_data"
    }
   ],
   "source": [
    "from pyspark.sql.functions import *\n",
    "\n",
    "# For replacing by the state with max entries, we can replace 99 by mode of the column\n",
    "mode_value = df.groupby(\"Registration State\").count().orderBy(\"count\", ascending=False).first()[0]\n",
    "df = df.withColumn('Registration State', when(df['Registration State']==\"99\",mode_value).otherwise(df[\"Registration State\"]))"
   ]
  },
  {
   "cell_type": "code",
   "execution_count": 13,
   "id": "cda53180",
   "metadata": {},
   "outputs": [
    {
     "data": {
      "application/vnd.jupyter.widget-view+json": {
       "model_id": "f11e4d3d4abd4ac6b0889b2004ccf395",
       "version_major": 2,
       "version_minor": 0
      },
      "text/plain": [
       "VBox()"
      ]
     },
     "metadata": {},
     "output_type": "display_data"
    },
    {
     "data": {
      "application/vnd.jupyter.widget-view+json": {
       "model_id": "",
       "version_major": 2,
       "version_minor": 0
      },
      "text/plain": [
       "FloatProgress(value=0.0, bar_style='info', description='Progress:', layout=Layout(height='25px', width='50%'),…"
      ]
     },
     "metadata": {},
     "output_type": "display_data"
    },
    {
     "name": "stdout",
     "output_type": "stream",
     "text": [
      "+--------------+--------+------------------+----------+--------------+-----------------+------------+------------------+--------------+\n",
      "|Summons Number|Plate ID|Registration State|Issue Date|Violation Code|Vehicle Body Type|Vehicle Make|Violation Precinct|Violation Time|\n",
      "+--------------+--------+------------------+----------+--------------+-----------------+------------+------------------+--------------+\n",
      "|    1334907778| GHG3401|                NY|06/23/2015|            20|             SUBN|       HONDA|                71|         0644P|\n",
      "|    1335102358| GWT7769|                NY|06/25/2015|            24|              SDN|       BUICK|                75|         0310A|\n",
      "|    1259656421| GNA3063|                PA|06/21/2015|            21|             SUBN|       NISSA|                88|         0125A|\n",
      "|    1259672189| GGT3952|                NY|07/08/2015|            71|             SUBN|       DODGE|                84|         0339P|\n",
      "|    1364639750| GZJ8497|                NY|07/22/2015|            19|              SDN|       NISSA|               113|         0121A|\n",
      "+--------------+--------+------------------+----------+--------------+-----------------+------------+------------------+--------------+\n",
      "only showing top 5 rows"
     ]
    }
   ],
   "source": [
    "df.show(5)"
   ]
  },
  {
   "cell_type": "code",
   "execution_count": 14,
   "id": "161ff95e",
   "metadata": {
    "scrolled": true
   },
   "outputs": [
    {
     "data": {
      "application/vnd.jupyter.widget-view+json": {
       "model_id": "32b78a48e0264ce1a840dd99e8d1ace7",
       "version_major": 2,
       "version_minor": 0
      },
      "text/plain": [
       "VBox()"
      ]
     },
     "metadata": {},
     "output_type": "display_data"
    },
    {
     "data": {
      "application/vnd.jupyter.widget-view+json": {
       "model_id": "",
       "version_major": 2,
       "version_minor": 0
      },
      "text/plain": [
       "FloatProgress(value=0.0, bar_style='info', description='Progress:', layout=Layout(height='25px', width='50%'),…"
      ]
     },
     "metadata": {},
     "output_type": "display_data"
    },
    {
     "name": "stdout",
     "output_type": "stream",
     "text": [
      "+------------------+\n",
      "|Registration State|\n",
      "+------------------+\n",
      "|                68|\n",
      "+------------------+"
     ]
    }
   ],
   "source": [
    "# Recheck for the unique states\n",
    "spark.sql(\"select count(distinct 'Registration State') as 'Registration State'\\\n",
    "          from Vdata\").show()"
   ]
  },
  {
   "cell_type": "markdown",
   "id": "d4d741d1",
   "metadata": {},
   "source": [
    "#### Ans: There are 68 unique states of the required condition with data clean"
   ]
  },
  {
   "cell_type": "markdown",
   "id": "ac9b822b",
   "metadata": {},
   "source": [
    "## <font color=red>Q3: Display the top 20 states with the most number of tickets along with their ticket count."
   ]
  },
  {
   "cell_type": "code",
   "execution_count": 15,
   "id": "c80abc30",
   "metadata": {},
   "outputs": [
    {
     "data": {
      "application/vnd.jupyter.widget-view+json": {
       "model_id": "5568cb74c3514e43ad3297ae7a717bbe",
       "version_major": 2,
       "version_minor": 0
      },
      "text/plain": [
       "VBox()"
      ]
     },
     "metadata": {},
     "output_type": "display_data"
    },
    {
     "data": {
      "application/vnd.jupyter.widget-view+json": {
       "model_id": "",
       "version_major": 2,
       "version_minor": 0
      },
      "text/plain": [
       "FloatProgress(value=0.0, bar_style='info', description='Progress:', layout=Layout(height='25px', width='50%'),…"
      ]
     },
     "metadata": {},
     "output_type": "display_data"
    },
    {
     "name": "stdout",
     "output_type": "stream",
     "text": [
      "+------------------+-------+\n",
      "|Registration State|  count|\n",
      "+------------------+-------+\n",
      "|                NY|8301774|\n",
      "|                NJ| 968839|\n",
      "|                PA| 259177|\n",
      "|                CT| 145153|\n",
      "|                FL| 138647|\n",
      "|                MA|  99115|\n",
      "|                IN|  81141|\n",
      "|                VA|  75093|\n",
      "|                MD|  60240|\n",
      "|                NC|  55629|\n",
      "|                IL|  37222|\n",
      "|                GA|  35300|\n",
      "|                TX|  32635|\n",
      "|                AZ|  26603|\n",
      "|                ME|  24277|\n",
      "|                OH|  23784|\n",
      "|                CA|  23532|\n",
      "|                OK|  21782|\n",
      "|                SC|  21203|\n",
      "|                TN|  18872|\n",
      "+------------------+-------+\n",
      "only showing top 20 rows"
     ]
    }
   ],
   "source": [
    "df.groupBy('Registration State').count().orderBy('count', ascending=False).show(20)"
   ]
  },
  {
   "cell_type": "markdown",
   "id": "332a302b",
   "metadata": {},
   "source": [
    "# <font color=\"red\">Aggregation tasks</font>"
   ]
  },
  {
   "cell_type": "markdown",
   "id": "683d9c02",
   "metadata": {},
   "source": [
    "## <font color=red>Q1: How often does each violation code occur? Display the frequency of the top five violation codes."
   ]
  },
  {
   "cell_type": "code",
   "execution_count": 16,
   "id": "5b683367",
   "metadata": {},
   "outputs": [
    {
     "data": {
      "application/vnd.jupyter.widget-view+json": {
       "model_id": "b1b4324b26c640bd8b4ccb26ae4661b2",
       "version_major": 2,
       "version_minor": 0
      },
      "text/plain": [
       "VBox()"
      ]
     },
     "metadata": {},
     "output_type": "display_data"
    },
    {
     "data": {
      "application/vnd.jupyter.widget-view+json": {
       "model_id": "",
       "version_major": 2,
       "version_minor": 0
      },
      "text/plain": [
       "FloatProgress(value=0.0, bar_style='info', description='Progress:', layout=Layout(height='25px', width='50%'),…"
      ]
     },
     "metadata": {},
     "output_type": "display_data"
    },
    {
     "name": "stdout",
     "output_type": "stream",
     "text": [
      "+--------------+-------+\n",
      "|Violation Code|  count|\n",
      "+--------------+-------+\n",
      "|            21|1531587|\n",
      "|            36|1253512|\n",
      "|            38|1143696|\n",
      "|            14| 875614|\n",
      "|            37| 686610|\n",
      "+--------------+-------+\n",
      "only showing top 5 rows"
     ]
    }
   ],
   "source": [
    "df.groupBy('Violation Code').count().orderBy('count', ascending=False).show(5)"
   ]
  },
  {
   "cell_type": "markdown",
   "id": "098e1dfc",
   "metadata": {},
   "source": [
    "## <font color=red>Q2: How often does each 'vehicle body type' get a parking ticket? How about the 'vehicle make'? Find the top 5 for both."
   ]
  },
  {
   "cell_type": "markdown",
   "id": "fa98d620",
   "metadata": {},
   "source": [
    "#### <font color=\"blue\"> For vehicle body type</font>"
   ]
  },
  {
   "cell_type": "code",
   "execution_count": 17,
   "id": "58a53646",
   "metadata": {},
   "outputs": [
    {
     "data": {
      "application/vnd.jupyter.widget-view+json": {
       "model_id": "9e702fc89a68498f833d0516c3956f8d",
       "version_major": 2,
       "version_minor": 0
      },
      "text/plain": [
       "VBox()"
      ]
     },
     "metadata": {},
     "output_type": "display_data"
    },
    {
     "data": {
      "application/vnd.jupyter.widget-view+json": {
       "model_id": "",
       "version_major": 2,
       "version_minor": 0
      },
      "text/plain": [
       "FloatProgress(value=0.0, bar_style='info', description='Progress:', layout=Layout(height='25px', width='50%'),…"
      ]
     },
     "metadata": {},
     "output_type": "display_data"
    },
    {
     "name": "stdout",
     "output_type": "stream",
     "text": [
      "+-----------------+-----------------+\n",
      "|Vehicle Body Type|Number of tickets|\n",
      "+-----------------+-----------------+\n",
      "|             SUBN|          3466037|\n",
      "|             4DSD|          2992107|\n",
      "|              VAN|          1518303|\n",
      "|             DELV|           755282|\n",
      "|              SDN|           424043|\n",
      "+-----------------+-----------------+"
     ]
    }
   ],
   "source": [
    "spark.sql(\"select 'Vehicle Body Type', count(*) as 'Number of tickets'\\\n",
    "          from Vdata\\\n",
    "          group by 'Vehicle Body Type'\\\n",
    "          order by 'Number of tickets' desc\\\n",
    "          limit 5\").show()"
   ]
  },
  {
   "cell_type": "markdown",
   "id": "53dfd479",
   "metadata": {},
   "source": [
    "#### <font color=\"blue\"> For vehicle make</font>"
   ]
  },
  {
   "cell_type": "code",
   "execution_count": 18,
   "id": "7abd4f2e",
   "metadata": {},
   "outputs": [
    {
     "data": {
      "application/vnd.jupyter.widget-view+json": {
       "model_id": "0514c8d890d3479996f4997417018533",
       "version_major": 2,
       "version_minor": 0
      },
      "text/plain": [
       "VBox()"
      ]
     },
     "metadata": {},
     "output_type": "display_data"
    },
    {
     "data": {
      "application/vnd.jupyter.widget-view+json": {
       "model_id": "",
       "version_major": 2,
       "version_minor": 0
      },
      "text/plain": [
       "FloatProgress(value=0.0, bar_style='info', description='Progress:', layout=Layout(height='25px', width='50%'),…"
      ]
     },
     "metadata": {},
     "output_type": "display_data"
    },
    {
     "name": "stdout",
     "output_type": "stream",
     "text": [
      "+------------+-----------------+\n",
      "|Vehicle Make|Number of tickets|\n",
      "+------------+-----------------+\n",
      "|        FORD|          1324774|\n",
      "|       TOYOT|          1154790|\n",
      "|       HONDA|          1014074|\n",
      "|       NISSA|           834833|\n",
      "|       CHEVR|           759663|\n",
      "+------------+-----------------+"
     ]
    }
   ],
   "source": [
    "spark.sql(\"select 'Vehicle Make', count(*) as 'Number of tickets'\\\n",
    "          from Vdata\\\n",
    "          group by 'Vehicle Make'\\\n",
    "          order by 'Number of tickets' desc\\\n",
    "          limit 5\").show()"
   ]
  },
  {
   "cell_type": "markdown",
   "id": "4c116787",
   "metadata": {},
   "source": [
    "## <font color=red>Q3: Seasonality in data."
   ]
  },
  {
   "cell_type": "markdown",
   "id": "1e08bc42",
   "metadata": {},
   "source": [
    "### <font color=\"blue\">Assumption: The given dateformat for column \"Issue Date\" for this question is assumed to be \"dd/mm/yyyy\"</font>"
   ]
  },
  {
   "cell_type": "code",
   "execution_count": 19,
   "id": "daf0e942",
   "metadata": {},
   "outputs": [
    {
     "data": {
      "application/vnd.jupyter.widget-view+json": {
       "model_id": "406d2f1727594c81844ccdcc689fcec6",
       "version_major": 2,
       "version_minor": 0
      },
      "text/plain": [
       "VBox()"
      ]
     },
     "metadata": {},
     "output_type": "display_data"
    },
    {
     "data": {
      "application/vnd.jupyter.widget-view+json": {
       "model_id": "",
       "version_major": 2,
       "version_minor": 0
      },
      "text/plain": [
       "FloatProgress(value=0.0, bar_style='info', description='Progress:', layout=Layout(height='25px', width='50%'),…"
      ]
     },
     "metadata": {},
     "output_type": "display_data"
    },
    {
     "name": "stdout",
     "output_type": "stream",
     "text": [
      "+--------------+--------+------------------+----------+--------------+-----------------+------------+------------------+--------------+\n",
      "|Summons Number|Plate ID|Registration State|Issue Date|Violation Code|Vehicle Body Type|Vehicle Make|Violation Precinct|Violation Time|\n",
      "+--------------+--------+------------------+----------+--------------+-----------------+------------+------------------+--------------+\n",
      "|    1334907778| GHG3401|                NY|06/23/2015|            20|             SUBN|       HONDA|                71|         0644P|\n",
      "|    1335102358| GWT7769|                NY|06/25/2015|            24|              SDN|       BUICK|                75|         0310A|\n",
      "+--------------+--------+------------------+----------+--------------+-----------------+------------+------------------+--------------+\n",
      "only showing top 2 rows"
     ]
    }
   ],
   "source": [
    "df.show(2)"
   ]
  },
  {
   "cell_type": "markdown",
   "id": "9afe725d",
   "metadata": {},
   "source": [
    "####  <font color=\"blue\">Recast the \"Issue Date\" column to proper format</font>"
   ]
  },
  {
   "cell_type": "code",
   "execution_count": 20,
   "id": "320dc1c0",
   "metadata": {},
   "outputs": [
    {
     "data": {
      "application/vnd.jupyter.widget-view+json": {
       "model_id": "ac620b56762d4aa7ad0f46f2d614285c",
       "version_major": 2,
       "version_minor": 0
      },
      "text/plain": [
       "VBox()"
      ]
     },
     "metadata": {},
     "output_type": "display_data"
    },
    {
     "data": {
      "application/vnd.jupyter.widget-view+json": {
       "model_id": "",
       "version_major": 2,
       "version_minor": 0
      },
      "text/plain": [
       "FloatProgress(value=0.0, bar_style='info', description='Progress:', layout=Layout(height='25px', width='50%'),…"
      ]
     },
     "metadata": {},
     "output_type": "display_data"
    }
   ],
   "source": [
    "pattern = 'dd/MM/yyyy'\n",
    "df = df.withColumn(\"Issue Date\",to_date(col(\"Issue Date\"),pattern))\n"
   ]
  },
  {
   "cell_type": "code",
   "execution_count": 21,
   "id": "f65824ad",
   "metadata": {},
   "outputs": [
    {
     "data": {
      "application/vnd.jupyter.widget-view+json": {
       "model_id": "0cd9d2d9a8074f0982a2a97e37f93e9e",
       "version_major": 2,
       "version_minor": 0
      },
      "text/plain": [
       "VBox()"
      ]
     },
     "metadata": {},
     "output_type": "display_data"
    },
    {
     "data": {
      "application/vnd.jupyter.widget-view+json": {
       "model_id": "",
       "version_major": 2,
       "version_minor": 0
      },
      "text/plain": [
       "FloatProgress(value=0.0, bar_style='info', description='Progress:', layout=Layout(height='25px', width='50%'),…"
      ]
     },
     "metadata": {},
     "output_type": "display_data"
    },
    {
     "name": "stdout",
     "output_type": "stream",
     "text": [
      "+--------------+--------+------------------+----------+--------------+-----------------+------------+------------------+--------------+\n",
      "|Summons Number|Plate ID|Registration State|Issue Date|Violation Code|Vehicle Body Type|Vehicle Make|Violation Precinct|Violation Time|\n",
      "+--------------+--------+------------------+----------+--------------+-----------------+------------+------------------+--------------+\n",
      "|    1334907778| GHG3401|                NY|      null|            20|             SUBN|       HONDA|                71|         0644P|\n",
      "|    1335102358| GWT7769|                NY|      null|            24|              SDN|       BUICK|                75|         0310A|\n",
      "|    1259656421| GNA3063|                PA|      null|            21|             SUBN|       NISSA|                88|         0125A|\n",
      "+--------------+--------+------------------+----------+--------------+-----------------+------------+------------------+--------------+\n",
      "only showing top 3 rows"
     ]
    }
   ],
   "source": [
    "df.show(3)"
   ]
  },
  {
   "cell_type": "code",
   "execution_count": 22,
   "id": "9af810c5",
   "metadata": {},
   "outputs": [
    {
     "data": {
      "application/vnd.jupyter.widget-view+json": {
       "model_id": "4f63d4fc46e34a81822086350e423c2a",
       "version_major": 2,
       "version_minor": 0
      },
      "text/plain": [
       "VBox()"
      ]
     },
     "metadata": {},
     "output_type": "display_data"
    },
    {
     "data": {
      "application/vnd.jupyter.widget-view+json": {
       "model_id": "",
       "version_major": 2,
       "version_minor": 0
      },
      "text/plain": [
       "FloatProgress(value=0.0, bar_style='info', description='Progress:', layout=Layout(height='25px', width='50%'),…"
      ]
     },
     "metadata": {},
     "output_type": "display_data"
    }
   ],
   "source": [
    "from pyspark.sql.functions import *\n",
    "from pyspark.sql.types import *\n",
    "\n",
    "def get_season(date):\n",
    "    # Assumption: We assign a value of \"Season-0\" for all the null values in the \"Issue Date\" in \"Season\" column\n",
    "    if(date==None):\n",
    "        return \"Season-0\"\n",
    "    SeasonMap = {\n",
    "    1: \"Season-1\",\n",
    "    2: \"Season-1\",\n",
    "    3: \"Season-1\",\n",
    "    4: \"Season-2\",\n",
    "    5: \"Season-2\",\n",
    "    6: \"Season-2\",\n",
    "    7: \"Season-3\",\n",
    "    8: \"Season-3\",\n",
    "    9: \"Season-3\",\n",
    "    10: \"Season-4\",\n",
    "    11: \"Season-4\",\n",
    "    12: \"Season-4\",\n",
    "    }\n",
    "    return SeasonMap.get(int(date.month))\n",
    "\n",
    "get_season = udf(get_season, StringType())\n",
    "\n",
    "df = df.withColumn('Season', get_season(df['Issue Date']))\n"
   ]
  },
  {
   "cell_type": "code",
   "execution_count": 23,
   "id": "772cb6c7",
   "metadata": {},
   "outputs": [
    {
     "data": {
      "application/vnd.jupyter.widget-view+json": {
       "model_id": "be031e6302404edb94b4e97fb240eafc",
       "version_major": 2,
       "version_minor": 0
      },
      "text/plain": [
       "VBox()"
      ]
     },
     "metadata": {},
     "output_type": "display_data"
    },
    {
     "data": {
      "application/vnd.jupyter.widget-view+json": {
       "model_id": "",
       "version_major": 2,
       "version_minor": 0
      },
      "text/plain": [
       "FloatProgress(value=0.0, bar_style='info', description='Progress:', layout=Layout(height='25px', width='50%'),…"
      ]
     },
     "metadata": {},
     "output_type": "display_data"
    },
    {
     "name": "stdout",
     "output_type": "stream",
     "text": [
      "+--------------+--------+------------------+----------+--------------+-----------------+------------+------------------+--------------+--------+\n",
      "|Summons Number|Plate ID|Registration State|Issue Date|Violation Code|Vehicle Body Type|Vehicle Make|Violation Precinct|Violation Time|  Season|\n",
      "+--------------+--------+------------------+----------+--------------+-----------------+------------+------------------+--------------+--------+\n",
      "|    1334907778| GHG3401|                NY|      null|            20|             SUBN|       HONDA|                71|         0644P|Season-0|\n",
      "|    1335102358| GWT7769|                NY|      null|            24|              SDN|       BUICK|                75|         0310A|Season-0|\n",
      "|    1259656421| GNA3063|                PA|      null|            21|             SUBN|       NISSA|                88|         0125A|Season-0|\n",
      "+--------------+--------+------------------+----------+--------------+-----------------+------------+------------------+--------------+--------+\n",
      "only showing top 3 rows"
     ]
    }
   ],
   "source": [
    "df.show(3)"
   ]
  },
  {
   "cell_type": "code",
   "execution_count": 24,
   "id": "1009483c",
   "metadata": {},
   "outputs": [
    {
     "data": {
      "application/vnd.jupyter.widget-view+json": {
       "model_id": "38cb92433909420d9b9aee83d1def4e0",
       "version_major": 2,
       "version_minor": 0
      },
      "text/plain": [
       "VBox()"
      ]
     },
     "metadata": {},
     "output_type": "display_data"
    },
    {
     "data": {
      "application/vnd.jupyter.widget-view+json": {
       "model_id": "",
       "version_major": 2,
       "version_minor": 0
      },
      "text/plain": [
       "FloatProgress(value=0.0, bar_style='info', description='Progress:', layout=Layout(height='25px', width='50%'),…"
      ]
     },
     "metadata": {},
     "output_type": "display_data"
    },
    {
     "name": "stdout",
     "output_type": "stream",
     "text": [
      "+----------+-------+\n",
      "|Issue Date|  count|\n",
      "+----------+-------+\n",
      "|      null|6369221|\n",
      "|2015-01-10|  47864|\n",
      "|2015-08-10|  47649|\n",
      "|2015-07-10|  45145|\n",
      "|2016-01-03|  45087|\n",
      "|2015-06-11|  45000|\n",
      "|2015-11-09|  44870|\n",
      "|2015-02-11|  44455|\n",
      "|2016-08-03|  44165|\n",
      "|2015-09-10|  44120|\n",
      "|2016-02-02|  43656|\n",
      "|2015-09-11|  43583|\n",
      "|2015-06-10|  43575|\n",
      "|2016-04-02|  43341|\n",
      "|2015-04-11|  43323|\n",
      "|2015-05-11|  43279|\n",
      "|2015-12-11|  43159|\n",
      "|2016-10-03|  42875|\n",
      "|2016-10-05|  42813|\n",
      "|2016-12-05|  42111|\n",
      "+----------+-------+\n",
      "only showing top 20 rows"
     ]
    }
   ],
   "source": [
    "df.groupBy('Issue Date').count().orderBy('count', ascending=False).show()"
   ]
  },
  {
   "cell_type": "markdown",
   "id": "b59396e3",
   "metadata": {},
   "source": [
    "#### <font color=\"blue\">Note: From the null value count above it is clear that, there are entries with no \"Issue Date\"\n",
    "<font color=blue>* So in order to cater for these entries we assign these with Season of \"Season-0\" as shown below</font>"
   ]
  },
  {
   "cell_type": "code",
   "execution_count": 25,
   "id": "5e7215c2",
   "metadata": {},
   "outputs": [
    {
     "data": {
      "application/vnd.jupyter.widget-view+json": {
       "model_id": "f26aac0da0044fdca158b0773661738a",
       "version_major": 2,
       "version_minor": 0
      },
      "text/plain": [
       "VBox()"
      ]
     },
     "metadata": {},
     "output_type": "display_data"
    },
    {
     "data": {
      "application/vnd.jupyter.widget-view+json": {
       "model_id": "",
       "version_major": 2,
       "version_minor": 0
      },
      "text/plain": [
       "FloatProgress(value=0.0, bar_style='info', description='Progress:', layout=Layout(height='25px', width='50%'),…"
      ]
     },
     "metadata": {},
     "output_type": "display_data"
    },
    {
     "name": "stdout",
     "output_type": "stream",
     "text": [
      "+--------+-------+\n",
      "|  Season|  count|\n",
      "+--------+-------+\n",
      "|Season-0|6369221|\n",
      "|Season-3|1111511|\n",
      "|Season-4|1072349|\n",
      "|Season-2|1041412|\n",
      "|Season-1|1032406|\n",
      "+--------+-------+"
     ]
    }
   ],
   "source": [
    "df.groupBy('Season').count().orderBy('count', ascending=False).show()"
   ]
  },
  {
   "cell_type": "code",
   "execution_count": 26,
   "id": "dccaf9d3",
   "metadata": {},
   "outputs": [
    {
     "data": {
      "application/vnd.jupyter.widget-view+json": {
       "model_id": "342a54004f8a4b6d8b83613f0d983e29",
       "version_major": 2,
       "version_minor": 0
      },
      "text/plain": [
       "VBox()"
      ]
     },
     "metadata": {},
     "output_type": "display_data"
    },
    {
     "data": {
      "application/vnd.jupyter.widget-view+json": {
       "model_id": "",
       "version_major": 2,
       "version_minor": 0
      },
      "text/plain": [
       "FloatProgress(value=0.0, bar_style='info', description='Progress:', layout=Layout(height='25px', width='50%'),…"
      ]
     },
     "metadata": {},
     "output_type": "display_data"
    }
   ],
   "source": [
    "df2 = df.groupBy(\"Season\",\"Violation Code\").count().orderBy(\"count\",ascending=False)"
   ]
  },
  {
   "cell_type": "code",
   "execution_count": 27,
   "id": "e246a174",
   "metadata": {},
   "outputs": [
    {
     "data": {
      "application/vnd.jupyter.widget-view+json": {
       "model_id": "19d0156071a943dfa71e3aec42418774",
       "version_major": 2,
       "version_minor": 0
      },
      "text/plain": [
       "VBox()"
      ]
     },
     "metadata": {},
     "output_type": "display_data"
    },
    {
     "data": {
      "application/vnd.jupyter.widget-view+json": {
       "model_id": "",
       "version_major": 2,
       "version_minor": 0
      },
      "text/plain": [
       "FloatProgress(value=0.0, bar_style='info', description='Progress:', layout=Layout(height='25px', width='50%'),…"
      ]
     },
     "metadata": {},
     "output_type": "display_data"
    },
    {
     "name": "stdout",
     "output_type": "stream",
     "text": [
      "+--------+--------------+------+\n",
      "|  Season|Violation Code| count|\n",
      "+--------+--------------+------+\n",
      "|Season-0|            21|934298|\n",
      "|Season-0|            36|727336|\n",
      "|Season-0|            38|707333|\n",
      "|Season-0|            14|535322|\n",
      "|Season-0|            37|420450|\n",
      "|Season-0|            20|376546|\n",
      "|Season-0|            46|355491|\n",
      "|Season-0|             7|308703|\n",
      "|Season-0|            40|282535|\n",
      "|Season-0|            71|200927|\n",
      "|Season-0|            19|178094|\n",
      "|Season-3|            21|158135|\n",
      "|Season-1|            21|157935|\n",
      "|Season-4|            21|155045|\n",
      "|Season-3|            36|147961|\n",
      "|Season-0|            69|139507|\n",
      "|Season-2|            36|137980|\n",
      "|Season-0|            70|136864|\n",
      "|Season-4|            36|135186|\n",
      "|Season-2|            21|126174|\n",
      "+--------+--------------+------+\n",
      "only showing top 20 rows"
     ]
    }
   ],
   "source": [
    "df2.show()"
   ]
  },
  {
   "cell_type": "code",
   "execution_count": 28,
   "id": "4e23bf4a",
   "metadata": {},
   "outputs": [
    {
     "data": {
      "application/vnd.jupyter.widget-view+json": {
       "model_id": "5290fd79c16e49abae58ee45c5d10738",
       "version_major": 2,
       "version_minor": 0
      },
      "text/plain": [
       "VBox()"
      ]
     },
     "metadata": {},
     "output_type": "display_data"
    },
    {
     "data": {
      "application/vnd.jupyter.widget-view+json": {
       "model_id": "",
       "version_major": 2,
       "version_minor": 0
      },
      "text/plain": [
       "FloatProgress(value=0.0, bar_style='info', description='Progress:', layout=Layout(height='25px', width='50%'),…"
      ]
     },
     "metadata": {},
     "output_type": "display_data"
    }
   ],
   "source": [
    "from pyspark.sql.window import Window\n",
    "from pyspark.sql.functions import col, row_number\n",
    "\n",
    "windowDept = Window.partitionBy(\"Season\").orderBy(col(\"count\").desc())\n",
    "\n",
    "df3 = df2.withColumn(\"row\",row_number().over(windowDept)).filter(col(\"row\") <= 3)"
   ]
  },
  {
   "cell_type": "code",
   "execution_count": 29,
   "id": "271b9d99",
   "metadata": {},
   "outputs": [
    {
     "data": {
      "application/vnd.jupyter.widget-view+json": {
       "model_id": "71f8c54aca0d48e78c46007af4df249f",
       "version_major": 2,
       "version_minor": 0
      },
      "text/plain": [
       "VBox()"
      ]
     },
     "metadata": {},
     "output_type": "display_data"
    },
    {
     "data": {
      "application/vnd.jupyter.widget-view+json": {
       "model_id": "",
       "version_major": 2,
       "version_minor": 0
      },
      "text/plain": [
       "FloatProgress(value=0.0, bar_style='info', description='Progress:', layout=Layout(height='25px', width='50%'),…"
      ]
     },
     "metadata": {},
     "output_type": "display_data"
    },
    {
     "name": "stdout",
     "output_type": "stream",
     "text": [
      "+--------+--------------+------+---+\n",
      "|  Season|Violation Code| count|row|\n",
      "+--------+--------------+------+---+\n",
      "|Season-0|            21|934298|  1|\n",
      "|Season-0|            36|727336|  2|\n",
      "|Season-0|            38|707333|  3|\n",
      "|Season-1|            36|105049|  2|\n",
      "|Season-1|            38|101428|  3|\n",
      "|Season-1|            21|157935|  1|\n",
      "|Season-2|            36|137980|  1|\n",
      "|Season-2|            21|126174|  2|\n",
      "|Season-2|            38|107123|  3|\n",
      "|Season-3|            21|158135|  1|\n",
      "|Season-3|            36|147961|  2|\n",
      "|Season-3|            38|111787|  3|\n",
      "|Season-4|            21|155045|  1|\n",
      "|Season-4|            36|135186|  2|\n",
      "|Season-4|            38|116025|  3|\n",
      "+--------+--------------+------+---+"
     ]
    }
   ],
   "source": [
    "df3.orderBy(\"Season\").show()"
   ]
  },
  {
   "cell_type": "markdown",
   "id": "05916b0d",
   "metadata": {},
   "source": [
    "#### Ans: The above table gives the seasonal violation code counts for top 3 violation codes\n",
    "##### Note: Here \"Season-0\" refers to data-entries with null-type for \"Issue Date\""
   ]
  },
  {
   "cell_type": "markdown",
   "id": "f64ec8e9",
   "metadata": {},
   "source": [
    "## <font color=red>Q4: Revenue from parking violations"
   ]
  },
  {
   "cell_type": "markdown",
   "id": "b3c863db",
   "metadata": {},
   "source": [
    "### <font color=red>Total occurences of the three of the most common violation codes."
   ]
  },
  {
   "cell_type": "code",
   "execution_count": 31,
   "id": "a4f17acf",
   "metadata": {},
   "outputs": [
    {
     "data": {
      "application/vnd.jupyter.widget-view+json": {
       "model_id": "a975bea8938648e9b55aa0942c5ca1ca",
       "version_major": 2,
       "version_minor": 0
      },
      "text/plain": [
       "VBox()"
      ]
     },
     "metadata": {},
     "output_type": "display_data"
    },
    {
     "data": {
      "application/vnd.jupyter.widget-view+json": {
       "model_id": "",
       "version_major": 2,
       "version_minor": 0
      },
      "text/plain": [
       "FloatProgress(value=0.0, bar_style='info', description='Progress:', layout=Layout(height='25px', width='50%'),…"
      ]
     },
     "metadata": {},
     "output_type": "display_data"
    }
   ],
   "source": [
    "df_temp = (df.groupBy('Violation Code').count().orderBy('count', ascending=False)).head(3)"
   ]
  },
  {
   "cell_type": "code",
   "execution_count": 32,
   "id": "693ac987",
   "metadata": {},
   "outputs": [
    {
     "data": {
      "application/vnd.jupyter.widget-view+json": {
       "model_id": "cb342b3cd21444f38cf7ae1988b4a1b5",
       "version_major": 2,
       "version_minor": 0
      },
      "text/plain": [
       "VBox()"
      ]
     },
     "metadata": {},
     "output_type": "display_data"
    },
    {
     "data": {
      "application/vnd.jupyter.widget-view+json": {
       "model_id": "",
       "version_major": 2,
       "version_minor": 0
      },
      "text/plain": [
       "FloatProgress(value=0.0, bar_style='info', description='Progress:', layout=Layout(height='25px', width='50%'),…"
      ]
     },
     "metadata": {},
     "output_type": "display_data"
    }
   ],
   "source": [
    "df_temp = spark.createDataFrame(df_temp)"
   ]
  },
  {
   "cell_type": "code",
   "execution_count": 33,
   "id": "0c9179e5",
   "metadata": {},
   "outputs": [
    {
     "data": {
      "application/vnd.jupyter.widget-view+json": {
       "model_id": "7d44a54572214fe0a4e83be8b23400fc",
       "version_major": 2,
       "version_minor": 0
      },
      "text/plain": [
       "VBox()"
      ]
     },
     "metadata": {},
     "output_type": "display_data"
    },
    {
     "data": {
      "application/vnd.jupyter.widget-view+json": {
       "model_id": "",
       "version_major": 2,
       "version_minor": 0
      },
      "text/plain": [
       "FloatProgress(value=0.0, bar_style='info', description='Progress:', layout=Layout(height='25px', width='50%'),…"
      ]
     },
     "metadata": {},
     "output_type": "display_data"
    },
    {
     "name": "stdout",
     "output_type": "stream",
     "text": [
      "+--------------+-------+\n",
      "|Violation Code|  count|\n",
      "+--------------+-------+\n",
      "|            21|1531587|\n",
      "|            36|1253512|\n",
      "|            38|1143696|\n",
      "+--------------+-------+"
     ]
    }
   ],
   "source": [
    "df_temp.show()"
   ]
  },
  {
   "cell_type": "markdown",
   "id": "b9818ccd",
   "metadata": {},
   "source": [
    "### <font color=red>Total amount collected for the above common codes"
   ]
  },
  {
   "cell_type": "code",
   "execution_count": 34,
   "id": "79e46eea",
   "metadata": {},
   "outputs": [
    {
     "data": {
      "application/vnd.jupyter.widget-view+json": {
       "model_id": "6e5c955ec9a645d6ba58806f2d2ef348",
       "version_major": 2,
       "version_minor": 0
      },
      "text/plain": [
       "VBox()"
      ]
     },
     "metadata": {},
     "output_type": "display_data"
    },
    {
     "data": {
      "application/vnd.jupyter.widget-view+json": {
       "model_id": "",
       "version_major": 2,
       "version_minor": 0
      },
      "text/plain": [
       "FloatProgress(value=0.0, bar_style='info', description='Progress:', layout=Layout(height='25px', width='50%'),…"
      ]
     },
     "metadata": {},
     "output_type": "display_data"
    }
   ],
   "source": [
    "# This is collected from nyc-website with averaging over region as specified\n",
    "violation_fine={ 21:65, 36:50, 38:100,}"
   ]
  },
  {
   "cell_type": "code",
   "execution_count": 35,
   "id": "9747ac77",
   "metadata": {},
   "outputs": [
    {
     "data": {
      "application/vnd.jupyter.widget-view+json": {
       "model_id": "f598d125055241ccb7e7a752cf666fba",
       "version_major": 2,
       "version_minor": 0
      },
      "text/plain": [
       "VBox()"
      ]
     },
     "metadata": {},
     "output_type": "display_data"
    },
    {
     "data": {
      "application/vnd.jupyter.widget-view+json": {
       "model_id": "",
       "version_major": 2,
       "version_minor": 0
      },
      "text/plain": [
       "FloatProgress(value=0.0, bar_style='info', description='Progress:', layout=Layout(height='25px', width='50%'),…"
      ]
     },
     "metadata": {},
     "output_type": "display_data"
    }
   ],
   "source": [
    "from pyspark.sql.functions import *\n",
    "from pyspark.sql.types import *"
   ]
  },
  {
   "cell_type": "code",
   "execution_count": 36,
   "id": "d9aff4f8",
   "metadata": {},
   "outputs": [
    {
     "data": {
      "application/vnd.jupyter.widget-view+json": {
       "model_id": "2aa3b6b97dc14e7fbb28a0bfbf700570",
       "version_major": 2,
       "version_minor": 0
      },
      "text/plain": [
       "VBox()"
      ]
     },
     "metadata": {},
     "output_type": "display_data"
    },
    {
     "data": {
      "application/vnd.jupyter.widget-view+json": {
       "model_id": "",
       "version_major": 2,
       "version_minor": 0
      },
      "text/plain": [
       "FloatProgress(value=0.0, bar_style='info', description='Progress:', layout=Layout(height='25px', width='50%'),…"
      ]
     },
     "metadata": {},
     "output_type": "display_data"
    }
   ],
   "source": [
    "def get_revenue(violation_code, count):\n",
    "    violation_fine={ 21:65, 36:50, 38:100,} # This data is from the given website\n",
    "    return (violation_fine.get(violation_code)*count)\n",
    "\n",
    "get_revenue = udf(get_revenue, LongType())\n",
    "\n",
    "df_temp = df_temp.withColumn('Total Revenue in $', get_revenue(df_temp['Violation Code'],df_temp['count']))"
   ]
  },
  {
   "cell_type": "code",
   "execution_count": 37,
   "id": "694d0dca",
   "metadata": {},
   "outputs": [
    {
     "data": {
      "application/vnd.jupyter.widget-view+json": {
       "model_id": "4a83a120878f41b694009aee8fcd6592",
       "version_major": 2,
       "version_minor": 0
      },
      "text/plain": [
       "VBox()"
      ]
     },
     "metadata": {},
     "output_type": "display_data"
    },
    {
     "data": {
      "application/vnd.jupyter.widget-view+json": {
       "model_id": "",
       "version_major": 2,
       "version_minor": 0
      },
      "text/plain": [
       "FloatProgress(value=0.0, bar_style='info', description='Progress:', layout=Layout(height='25px', width='50%'),…"
      ]
     },
     "metadata": {},
     "output_type": "display_data"
    },
    {
     "name": "stdout",
     "output_type": "stream",
     "text": [
      "+--------------+-------+------------------+\n",
      "|Violation Code|  count|Total Revenue in $|\n",
      "+--------------+-------+------------------+\n",
      "|            21|1531587|          99553155|\n",
      "|            36|1253512|          62675600|\n",
      "|            38|1143696|         114369600|\n",
      "+--------------+-------+------------------+"
     ]
    }
   ],
   "source": [
    "df_temp.show()"
   ]
  },
  {
   "cell_type": "markdown",
   "id": "2396debe",
   "metadata": {},
   "source": [
    "##### Note: The code with highest collection is 38 with a collection of \\$114369600"
   ]
  },
  {
   "cell_type": "markdown",
   "id": "f2087ae8",
   "metadata": {},
   "source": [
    "### <font color=red>Top 3 states that have the highest ticket revenue based on the above top 3 violation codes alone"
   ]
  },
  {
   "cell_type": "code",
   "execution_count": 38,
   "id": "f5a3d5fa",
   "metadata": {},
   "outputs": [
    {
     "data": {
      "application/vnd.jupyter.widget-view+json": {
       "model_id": "486c0d15cda2408d967c679d9c6538d5",
       "version_major": 2,
       "version_minor": 0
      },
      "text/plain": [
       "VBox()"
      ]
     },
     "metadata": {},
     "output_type": "display_data"
    },
    {
     "data": {
      "application/vnd.jupyter.widget-view+json": {
       "model_id": "",
       "version_major": 2,
       "version_minor": 0
      },
      "text/plain": [
       "FloatProgress(value=0.0, bar_style='info', description='Progress:', layout=Layout(height='25px', width='50%'),…"
      ]
     },
     "metadata": {},
     "output_type": "display_data"
    },
    {
     "name": "stdout",
     "output_type": "stream",
     "text": [
      "+--------------+--------+------------------+----------+--------------+-----------------+------------+------------------+--------------+--------+\n",
      "|Summons Number|Plate ID|Registration State|Issue Date|Violation Code|Vehicle Body Type|Vehicle Make|Violation Precinct|Violation Time|  Season|\n",
      "+--------------+--------+------------------+----------+--------------+-----------------+------------+------------------+--------------+--------+\n",
      "|    1334907778| GHG3401|                NY|      null|            20|             SUBN|       HONDA|                71|         0644P|Season-0|\n",
      "|    1335102358| GWT7769|                NY|      null|            24|              SDN|       BUICK|                75|         0310A|Season-0|\n",
      "|    1259656421| GNA3063|                PA|      null|            21|             SUBN|       NISSA|                88|         0125A|Season-0|\n",
      "|    1259672189| GGT3952|                NY|2015-08-07|            71|             SUBN|       DODGE|                84|         0339P|Season-3|\n",
      "|    1364639750| GZJ8497|                NY|      null|            19|              SDN|       NISSA|               113|         0121A|Season-0|\n",
      "+--------------+--------+------------------+----------+--------------+-----------------+------------+------------------+--------------+--------+\n",
      "only showing top 5 rows"
     ]
    }
   ],
   "source": [
    "df.show(5)"
   ]
  },
  {
   "cell_type": "code",
   "execution_count": 39,
   "id": "c7abd5bc",
   "metadata": {},
   "outputs": [
    {
     "data": {
      "application/vnd.jupyter.widget-view+json": {
       "model_id": "37570bad873c487faef6fccc3da9d51b",
       "version_major": 2,
       "version_minor": 0
      },
      "text/plain": [
       "VBox()"
      ]
     },
     "metadata": {},
     "output_type": "display_data"
    },
    {
     "data": {
      "application/vnd.jupyter.widget-view+json": {
       "model_id": "",
       "version_major": 2,
       "version_minor": 0
      },
      "text/plain": [
       "FloatProgress(value=0.0, bar_style='info', description='Progress:', layout=Layout(height='25px', width='50%'),…"
      ]
     },
     "metadata": {},
     "output_type": "display_data"
    }
   ],
   "source": [
    "def get_revenue(violation_code):\n",
    "    \n",
    "    violation_fine={ 21:65, 36:50, 38:100,} # This data is from the given website\n",
    "    \n",
    "    if(violation_fine.get(violation_code)==None): # Note: Temporarily returning 0 for non significant fines\n",
    "        return 0\n",
    "    else:\n",
    "        return (violation_fine.get(violation_code))\n",
    "\n",
    "get_revenue = udf(get_revenue, LongType())\n",
    "\n",
    "df = df.withColumn('Total Revenue in $', get_revenue(df['Violation Code']))"
   ]
  },
  {
   "cell_type": "code",
   "execution_count": 40,
   "id": "52093563",
   "metadata": {},
   "outputs": [
    {
     "data": {
      "application/vnd.jupyter.widget-view+json": {
       "model_id": "9f8f8060cb054d51a039c824a3c921a0",
       "version_major": 2,
       "version_minor": 0
      },
      "text/plain": [
       "VBox()"
      ]
     },
     "metadata": {},
     "output_type": "display_data"
    },
    {
     "data": {
      "application/vnd.jupyter.widget-view+json": {
       "model_id": "",
       "version_major": 2,
       "version_minor": 0
      },
      "text/plain": [
       "FloatProgress(value=0.0, bar_style='info', description='Progress:', layout=Layout(height='25px', width='50%'),…"
      ]
     },
     "metadata": {},
     "output_type": "display_data"
    },
    {
     "name": "stdout",
     "output_type": "stream",
     "text": [
      "+--------------+--------+------------------+----------+--------------+-----------------+------------+------------------+--------------+--------+------------------+\n",
      "|Summons Number|Plate ID|Registration State|Issue Date|Violation Code|Vehicle Body Type|Vehicle Make|Violation Precinct|Violation Time|  Season|Total Revenue in $|\n",
      "+--------------+--------+------------------+----------+--------------+-----------------+------------+------------------+--------------+--------+------------------+\n",
      "|    1334907778| GHG3401|                NY|      null|            20|             SUBN|       HONDA|                71|         0644P|Season-0|                 0|\n",
      "|    1335102358| GWT7769|                NY|      null|            24|              SDN|       BUICK|                75|         0310A|Season-0|                 0|\n",
      "|    1259656421| GNA3063|                PA|      null|            21|             SUBN|       NISSA|                88|         0125A|Season-0|                65|\n",
      "+--------------+--------+------------------+----------+--------------+-----------------+------------+------------------+--------------+--------+------------------+\n",
      "only showing top 3 rows"
     ]
    }
   ],
   "source": [
    "df.show(3)"
   ]
  },
  {
   "cell_type": "code",
   "execution_count": 41,
   "id": "8a26037b",
   "metadata": {},
   "outputs": [
    {
     "data": {
      "application/vnd.jupyter.widget-view+json": {
       "model_id": "09c0d2a57e214f4aae983b8272dc6562",
       "version_major": 2,
       "version_minor": 0
      },
      "text/plain": [
       "VBox()"
      ]
     },
     "metadata": {},
     "output_type": "display_data"
    },
    {
     "data": {
      "application/vnd.jupyter.widget-view+json": {
       "model_id": "",
       "version_major": 2,
       "version_minor": 0
      },
      "text/plain": [
       "FloatProgress(value=0.0, bar_style='info', description='Progress:', layout=Layout(height='25px', width='50%'),…"
      ]
     },
     "metadata": {},
     "output_type": "display_data"
    },
    {
     "name": "stdout",
     "output_type": "stream",
     "text": [
      "+------------------+-----------------------+\n",
      "|Registration State|sum(Total Revenue in $)|\n",
      "+------------------+-----------------------+\n",
      "|                MN|                 209115|\n",
      "|                DC|                 136760|\n",
      "|                MX|                    195|\n",
      "|                GV|                   2080|\n",
      "|                QB|                 147360|\n",
      "|                MD|                1877995|\n",
      "|                DE|                 524035|\n",
      "|                MO|                 101550|\n",
      "|                IL|                 893375|\n",
      "|                MS|                 135395|\n",
      "|                SD|                  75190|\n",
      "|                ON|                 153485|\n",
      "|                AK|                  32145|\n",
      "|                UT|                  55840|\n",
      "|                HI|                  22705|\n",
      "|                NS|                  29025|\n",
      "|                CA|                 794135|\n",
      "|                CT|                4291305|\n",
      "|                NC|                1707690|\n",
      "|                ME|                 245395|\n",
      "+------------------+-----------------------+\n",
      "only showing top 20 rows"
     ]
    }
   ],
   "source": [
    "df_temp = df.groupBy('Registration State').sum('Total Revenue in $')\n",
    "df_temp.show()"
   ]
  },
  {
   "cell_type": "code",
   "execution_count": 42,
   "id": "0cbe3fb5",
   "metadata": {},
   "outputs": [
    {
     "data": {
      "application/vnd.jupyter.widget-view+json": {
       "model_id": "ed54072faa3244a9848db1fb11a7494e",
       "version_major": 2,
       "version_minor": 0
      },
      "text/plain": [
       "VBox()"
      ]
     },
     "metadata": {},
     "output_type": "display_data"
    },
    {
     "data": {
      "application/vnd.jupyter.widget-view+json": {
       "model_id": "",
       "version_major": 2,
       "version_minor": 0
      },
      "text/plain": [
       "FloatProgress(value=0.0, bar_style='info', description='Progress:', layout=Layout(height='25px', width='50%'),…"
      ]
     },
     "metadata": {},
     "output_type": "display_data"
    }
   ],
   "source": [
    "df_temp = df_temp.orderBy('sum(Total Revenue in $)', ascending=False)"
   ]
  },
  {
   "cell_type": "code",
   "execution_count": 43,
   "id": "5490295f",
   "metadata": {
    "scrolled": true
   },
   "outputs": [
    {
     "data": {
      "application/vnd.jupyter.widget-view+json": {
       "model_id": "0413222b8aaf41a591f9da3bf1858aea",
       "version_major": 2,
       "version_minor": 0
      },
      "text/plain": [
       "VBox()"
      ]
     },
     "metadata": {},
     "output_type": "display_data"
    },
    {
     "data": {
      "application/vnd.jupyter.widget-view+json": {
       "model_id": "",
       "version_major": 2,
       "version_minor": 0
      },
      "text/plain": [
       "FloatProgress(value=0.0, bar_style='info', description='Progress:', layout=Layout(height='25px', width='50%'),…"
      ]
     },
     "metadata": {},
     "output_type": "display_data"
    },
    {
     "name": "stdout",
     "output_type": "stream",
     "text": [
      "+------------------+-----------------------+\n",
      "|Registration State|sum(Total Revenue in $)|\n",
      "+------------------+-----------------------+\n",
      "|                NY|              218585075|\n",
      "|                NJ|               20488260|\n",
      "|                PA|                7749500|\n",
      "+------------------+-----------------------+\n",
      "only showing top 3 rows"
     ]
    }
   ],
   "source": [
    "df_temp.show(3)"
   ]
  },
  {
   "cell_type": "markdown",
   "id": "969937c1",
   "metadata": {},
   "source": [
    "##### The above are the top three state represented by their registration codes"
   ]
  },
  {
   "cell_type": "markdown",
   "id": "b0fbf48f",
   "metadata": {},
   "source": [
    "## <font color=red>Few Important Deductions from above findings"
   ]
  },
  {
   "cell_type": "markdown",
   "id": "c3ea4b74",
   "metadata": {},
   "source": [
    "##### Note here \"NY: New York\", \"NJ: New Jersey\", \"PA: Pennsylvania \""
   ]
  },
  {
   "cell_type": "markdown",
   "id": "fdc0972a",
   "metadata": {},
   "source": [
    " * Cars that have registration from NY aggregate to form the highest revenue just from the above violation codes alone (21,36,38)  followed by NJ and PA.\n",
    " \n",
    "* It is surprising to note that there is no revenue from the cars of the state NT for above three violation codes.\n"
   ]
  }
 ],
 "metadata": {
  "kernelspec": {
   "display_name": "PySpark",
   "language": "",
   "name": "pysparkkernel"
  },
  "language_info": {
   "codemirror_mode": {
    "name": "python",
    "version": 2
   },
   "mimetype": "text/x-python",
   "name": "pyspark",
   "pygments_lexer": "python2"
  }
 },
 "nbformat": 4,
 "nbformat_minor": 5
}
